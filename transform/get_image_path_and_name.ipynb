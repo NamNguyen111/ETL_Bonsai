{
 "cells": [
  {
   "cell_type": "code",
   "execution_count": 1,
   "metadata": {},
   "outputs": [],
   "source": [
    "import pandas as pd"
   ]
  },
  {
   "cell_type": "code",
   "execution_count": 3,
   "metadata": {},
   "outputs": [
    {
     "name": "stdout",
     "output_type": "stream",
     "text": [
      "[['Blooming Joy', ['thumbnail_4_ewq4su', 'thumbnail_3_qduql9', 'Blooming_Joy_donorf', 'thumbnail_2_pony5d', 'thumbnail_1_tnu9z0']], ['Bohemian Pink', ['thumbnail_4_crmv2d', 'thumbnail_3_qutlvn', 'thumbnail_2_ltov2r', 'thumbnail_1_h6ujzm', 'Bohemian_Pink_oj4bom']], ['Cactus In Orange', ['shop-3-img_t8y03d', 'shop-3-gallery-4_b7azop', 'shop-3-gallery-3_frfvpu', 'shop-3-gallery-2_wkuxoy', 'shop-3-gallery-1_xhwat0']], ['Forest Bush', ['thumbnail_3_f2w8vg', 'thumbnail_4_rcfb8k', 'thumbnail_2_q5t1ns', 'thumbnail_1_xkpaje', 'Forest_Bush_tzw03r']], ['Foxglove Flower', ['shop-13-img_jvn0rm', 'shop-13-gallery-4_ljkwaa', 'shop-13-gallery-3_hgtagz', 'shop-13-gallery-2_fbjkjj', 'shop-13-gallery-1_iqnov8']], ['Majesty Palm', ['shop-14-img_gkri1z', 'shop-14-gallery-4_nmrewv', 'shop-14-gallery-3_rg0yly', 'shop-14-gallery-2_b5qibr', 'shop-14-gallery-1_sagj1o']], ['Orange Amaryllis', ['shop-12-gallery-1_wedbpf', 'shop-12-gallery-2_thgxpn', 'shop-12-gallery-3_sokjab', 'shop-12-gallery-4_m76nbl', 'shop-12-img_cbbngp']], ['Pastel Rose', ['Pastel_Rose_nfwiss', 'thumbnail_1_uubpgc', 'thumbnail_2_mr6sal', 'thumbnail_3_ivwvoy', 'thumbnail_4_tsbkf3']], ['Rhapsodies', ['Rhapsodies_snme92', 'thumbnail_1_sydser', 'thumbnail_2_m5hide', 'thumbnail_3_zxcgjk', 'thumbnail_4_lrt4vh']], ['Rock Soapwort', ['shop-9-gallery-1_mwpves', 'shop-9-gallery-2_yfkd10', 'shop-9-gallery-3_cssgls', 'shop-9-gallery-4_dtdgwb', 'shop-9-img_vzd1iq']], ['Romantic Pink', ['Romantic_Pink_inbt10', 'thumbnail_1_pojsvq', 'thumbnail_2_jjmqyy', 'thumbnail_3_bdwp2d', 'thumbnail_4_zwgomr']], ['Rustic Love', ['Rustic_Love_i8ziol', 'thumbnail_1_uxuot5', 'thumbnail_2_z2d503', 'thumbnail_3_mdjp1z', 'thumbnail_4_gm52yj']], ['Spring Snowflake', ['shop-11-gallery-1_qxeiir', 'shop-11-gallery-2_dsvmt5', 'shop-11-gallery-3_qzm5v1', 'shop-11-gallery-4_c5ynvw', 'shop-11-img_eche9b']], ['Summer Savory', ['shop-8-gallery-1_iasmrq', 'shop-8-gallery-2_ypoymn', 'shop-8-gallery-3_wobtps', 'shop-8-gallery-4_zuipmy', 'shop-8-img_rjboc5']], ['Sweet Alyssum', ['shop-10-gallery-1_oujkww', 'shop-10-gallery-2_cbk2mb', 'shop-10-gallery-3_f9qiaz', 'shop-10-gallery-4_regpsc', 'shop-10-img_tx56nc']], ['Unique One', ['thumbnail_1_mq0u4t', 'thumbnail_2_dvvkzx', 'thumbnail_3_kv2tjh', 'thumbnail_4_iuhznn', 'Unique_One_iurzqq']], ['White Petals', ['thumbnail_1_rno9aq', 'thumbnail_2_ppclyv', 'thumbnail_3_wpztmr', 'thumbnail_4_yirmyb', 'White_Petals_pwqpwq']], ['Wild Beauty', ['thumbnail_1_kblgoi', 'thumbnail_2_kzbrqi', 'thumbnail_3_gaiiwt', 'thumbnail_4_juqfae', 'Wild_Beauty_oojrdf']], ['Wild Cactus', ['shop-5-gallery-1_qcpyxh', 'shop-5-gallery-2_tbhxjf', 'shop-5-img_sdgxmk']]]\n"
     ]
    }
   ],
   "source": [
    "# Step 1: Read the Excel file\n",
    "df = pd.read_excel(\"data.xlsx\", header=None)\n",
    "\n",
    "# Step 2: Process the DataFrame\n",
    "nested_list = []\n",
    "current_product = None\n",
    "images = []\n",
    "\n",
    "for index, row in df.iterrows():\n",
    "    product_name = row[0]\n",
    "    image_name = row[1]\n",
    "    \n",
    "    if pd.notna(product_name):\n",
    "        if current_product:\n",
    "            nested_list.append([current_product, images])\n",
    "        current_product = product_name\n",
    "        images = [image_name] if pd.notna(image_name) else []\n",
    "    else:\n",
    "        if pd.notna(image_name):\n",
    "            images.append(image_name)\n",
    "if current_product:\n",
    "    nested_list.append([current_product, images])\n",
    "\n",
    "# Step 3: Print the nested list\n",
    "print(nested_list)"
   ]
  },
  {
   "cell_type": "code",
   "execution_count": null,
   "metadata": {},
   "outputs": [],
   "source": []
  }
 ],
 "metadata": {
  "kernelspec": {
   "display_name": "Python 3",
   "language": "python",
   "name": "python3"
  },
  "language_info": {
   "codemirror_mode": {
    "name": "ipython",
    "version": 3
   },
   "file_extension": ".py",
   "mimetype": "text/x-python",
   "name": "python",
   "nbconvert_exporter": "python",
   "pygments_lexer": "ipython3",
   "version": "3.10.11"
  }
 },
 "nbformat": 4,
 "nbformat_minor": 2
}
