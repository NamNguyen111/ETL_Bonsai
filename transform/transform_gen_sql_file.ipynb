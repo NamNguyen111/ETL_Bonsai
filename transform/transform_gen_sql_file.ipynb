{
 "cells": [
  {
   "cell_type": "code",
   "execution_count": 1,
   "metadata": {},
   "outputs": [],
   "source": [
    "import random\n",
    "import uuid\n",
    "from datetime import timedelta, datetime\n",
    "from faker import Faker\n",
    "import json\n",
    "import pandas as pd\n",
    "\n",
    "\n",
    "\n"
   ]
  },
  {
   "cell_type": "code",
   "execution_count": 2,
   "metadata": {},
   "outputs": [
    {
     "name": "stdout",
     "output_type": "stream",
     "text": [
      "[['Blooming Joy', ['https://res.cloudinary.com/dl0g9euyy/image/upload/v1729788573/thumbnail_1_tnu9z0.jpg', 'https://res.cloudinary.com/dl0g9euyy/image/upload/v1729788573/thumbnail_2_pony5d.jpg', 'https://res.cloudinary.com/dl0g9euyy/image/upload/v1729788573/Blooming_Joy_donorf.jpg', 'https://res.cloudinary.com/dl0g9euyy/image/upload/v1729788573/thumbnail_3_qduql9.jpg', 'https://res.cloudinary.com/dl0g9euyy/image/upload/v1729788573/thumbnail_4_ewq4su.jpg']], ['Bohemian Pink', ['https://res.cloudinary.com/dl0g9euyy/image/upload/v1729789258/Bohemian_Pink_oj4bom.jpg', 'https://res.cloudinary.com/dl0g9euyy/image/upload/v1729789258/thumbnail_1_h6ujzm.jpg', 'https://res.cloudinary.com/dl0g9euyy/image/upload/v1729789259/thumbnail_2_ltov2r.jpg', 'https://res.cloudinary.com/dl0g9euyy/image/upload/v1729789261/thumbnail_3_qutlvn.jpg', 'https://res.cloudinary.com/dl0g9euyy/image/upload/v1729789262/thumbnail_4_crmv2d.jpg']], ['Cactus In Orange', ['https://res.cloudinary.com/dl0g9euyy/image/upload/v1729789357/shop-3-gallery-1_xhwat0.jpg', 'https://res.cloudinary.com/dl0g9euyy/image/upload/v1729789359/shop-3-gallery-2_wkuxoy.jpg', 'https://res.cloudinary.com/dl0g9euyy/image/upload/v1729789360/shop-3-gallery-3_frfvpu.jpg', 'https://res.cloudinary.com/dl0g9euyy/image/upload/v1729789362/shop-3-gallery-4_b7azop.jpg', 'https://res.cloudinary.com/dl0g9euyy/image/upload/v1729789364/shop-3-img_t8y03d.jpg']], ['Forest Bush', ['https://res.cloudinary.com/dl0g9euyy/image/upload/v1729789456/Forest_Bush_tzw03r.jpg', 'https://res.cloudinary.com/dl0g9euyy/image/upload/v1729789458/thumbnail_1_xkpaje.jpg', 'https://res.cloudinary.com/dl0g9euyy/image/upload/v1729789461/thumbnail_2_q5t1ns.jpg', 'https://res.cloudinary.com/dl0g9euyy/image/upload/v1729789463/thumbnail_3_f2w8vg.jpg', 'https://res.cloudinary.com/dl0g9euyy/image/upload/v1729789466/thumbnail_4_rcfb8k.jpg']], ['Foxglove Flower', ['https://res.cloudinary.com/dl0g9euyy/image/upload/v1729789538/shop-13-gallery-1_iqnov8.jpg', 'https://res.cloudinary.com/dl0g9euyy/image/upload/v1729789541/shop-13-gallery-2_fbjkjj.jpg', 'https://res.cloudinary.com/dl0g9euyy/image/upload/v1729789543/shop-13-gallery-3_hgtagz.jpg', 'https://res.cloudinary.com/dl0g9euyy/image/upload/v1729789545/shop-13-gallery-4_ljkwaa.jpg', 'https://res.cloudinary.com/dl0g9euyy/image/upload/v1729789547/shop-13-img_jvn0rm.jpg']], ['Majesty Palm', ['https://res.cloudinary.com/dl0g9euyy/image/upload/v1729789636/shop-14-gallery-1_sagj1o.jpg', 'https://res.cloudinary.com/dl0g9euyy/image/upload/v1729789639/shop-14-gallery-2_b5qibr.jpg', 'https://res.cloudinary.com/dl0g9euyy/image/upload/v1729789642/shop-14-gallery-3_rg0yly.jpg', 'https://res.cloudinary.com/dl0g9euyy/image/upload/v1729789644/shop-14-gallery-4_nmrewv.jpg', 'https://res.cloudinary.com/dl0g9euyy/image/upload/v1729789646/shop-14-img_gkri1z.jpg']], ['Orange Amaryllis', ['https://res.cloudinary.com/dl0g9euyy/image/upload/v1729789837/shop-12-gallery-1_wedbpf.jpg', 'https://res.cloudinary.com/dl0g9euyy/image/upload/v1729789841/shop-12-gallery-2_thgxpn.jpg', 'https://res.cloudinary.com/dl0g9euyy/image/upload/v1729789844/shop-12-gallery-3_sokjab.jpg', 'https://res.cloudinary.com/dl0g9euyy/image/upload/v1729789848/shop-12-gallery-4_m76nbl.jpg', 'https://res.cloudinary.com/dl0g9euyy/image/upload/v1729789852/shop-12-img_cbbngp.jpg']], ['Pastel Rose', ['https://res.cloudinary.com/dl0g9euyy/image/upload/v1729789979/Pastel_Rose_nfwiss.jpg', 'https://res.cloudinary.com/dl0g9euyy/image/upload/v1729789983/thumbnail_1_uubpgc.jpg', 'https://res.cloudinary.com/dl0g9euyy/image/upload/v1729789986/thumbnail_2_mr6sal.jpg', 'https://res.cloudinary.com/dl0g9euyy/image/upload/v1729789990/thumbnail_3_ivwvoy.jpg', 'https://res.cloudinary.com/dl0g9euyy/image/upload/v1729789994/thumbnail_4_tsbkf3.jpg']], ['Rhapsodies', ['https://res.cloudinary.com/dl0g9euyy/image/upload/v1729790046/Rhapsodies_snme92.jpg', 'https://res.cloudinary.com/dl0g9euyy/image/upload/v1729790050/thumbnail_1_sydser.jpg', 'https://res.cloudinary.com/dl0g9euyy/image/upload/v1729790054/thumbnail_2_m5hide.jpg', 'https://res.cloudinary.com/dl0g9euyy/image/upload/v1729790058/thumbnail_3_zxcgjk.jpg', 'https://res.cloudinary.com/dl0g9euyy/image/upload/v1729790062/thumbnail_4_lrt4vh.jpg']], ['Rock Soapwort', ['https://res.cloudinary.com/dl0g9euyy/image/upload/v1729790127/shop-9-gallery-1_mwpves.jpg', 'https://res.cloudinary.com/dl0g9euyy/image/upload/v1729790177/shop-9-gallery-2_yfkd10.jpg', 'https://res.cloudinary.com/dl0g9euyy/image/upload/v1729790182/shop-9-gallery-3_cssgls.jpg', 'https://res.cloudinary.com/dl0g9euyy/image/upload/v1729790186/shop-9-gallery-4_dtdgwb.jpg', 'https://res.cloudinary.com/dl0g9euyy/image/upload/v1729790190/shop-9-img_vzd1iq.jpg']], ['Romantic Pink', ['https://res.cloudinary.com/dl0g9euyy/image/upload/v1729790241/Romantic_Pink_inbt10.jpg', 'https://res.cloudinary.com/dl0g9euyy/image/upload/v1729790283/thumbnail_1_pojsvq.jpg', 'https://res.cloudinary.com/dl0g9euyy/image/upload/v1729790288/thumbnail_2_jjmqyy.jpg', 'https://res.cloudinary.com/dl0g9euyy/image/upload/v1729790292/thumbnail_3_bdwp2d.jpg', 'https://res.cloudinary.com/dl0g9euyy/image/upload/v1729790296/thumbnail_4_zwgomr.jpg']], ['Rustic Love', ['https://res.cloudinary.com/dl0g9euyy/image/upload/v1729790409/Rustic_Love_i8ziol.jpg', 'https://res.cloudinary.com/dl0g9euyy/image/upload/v1729790414/thumbnail_1_uxuot5.jpg', 'https://res.cloudinary.com/dl0g9euyy/image/upload/v1729790419/thumbnail_2_z2d503.jpg', 'https://res.cloudinary.com/dl0g9euyy/image/upload/v1729790424/thumbnail_3_mdjp1z.jpg', 'https://res.cloudinary.com/dl0g9euyy/image/upload/v1729790429/thumbnail_4_gm52yj.jpg']], ['Spring Snowflake', ['https://res.cloudinary.com/dl0g9euyy/image/upload/v1729790490/shop-11-gallery-1_qxeiir.jpg', 'https://res.cloudinary.com/dl0g9euyy/image/upload/v1729790495/shop-11-gallery-2_dsvmt5.jpg', 'https://res.cloudinary.com/dl0g9euyy/image/upload/v1729790500/shop-11-gallery-3_qzm5v1.jpg', 'https://res.cloudinary.com/dl0g9euyy/image/upload/v1729790506/shop-11-gallery-4_c5ynvw.jpg', 'https://res.cloudinary.com/dl0g9euyy/image/upload/v1729790512/shop-11-img_eche9b.jpg']], ['Summer Savory', ['https://res.cloudinary.com/dl0g9euyy/image/upload/v1729790519/shop-8-gallery-1_iasmrq.jpg', 'https://res.cloudinary.com/dl0g9euyy/image/upload/v1729790524/shop-8-gallery-2_ypoymn.jpg', 'https://res.cloudinary.com/dl0g9euyy/image/upload/v1729790528/shop-8-gallery-3_wobtps.jpg', 'https://res.cloudinary.com/dl0g9euyy/image/upload/v1729790533/shop-8-gallery-4_zuipmy.jpg', 'https://res.cloudinary.com/dl0g9euyy/image/upload/v1729790538/shop-8-img_rjboc5.jpg']], ['Sweet Alyssum', ['https://res.cloudinary.com/dl0g9euyy/image/upload/v1729790553/shop-10-gallery-1_oujkww.jpg', 'https://res.cloudinary.com/dl0g9euyy/image/upload/v1729790558/shop-10-gallery-2_cbk2mb.jpg', 'https://res.cloudinary.com/dl0g9euyy/image/upload/v1729790565/shop-10-gallery-3_f9qiaz.jpg', 'https://res.cloudinary.com/dl0g9euyy/image/upload/v1729790570/shop-10-gallery-4_regpsc.jpg', 'https://res.cloudinary.com/dl0g9euyy/image/upload/v1729790576/shop-10-img_tx56nc.jpg']], ['Unique One', ['https://res.cloudinary.com/dl0g9euyy/image/upload/v1729790581/thumbnail_1_mq0u4t.jpg', 'https://res.cloudinary.com/dl0g9euyy/image/upload/v1729790586/thumbnail_2_dvvkzx.jpg', 'https://res.cloudinary.com/dl0g9euyy/image/upload/v1729790591/thumbnail_3_kv2tjh.jpg', 'https://res.cloudinary.com/dl0g9euyy/image/upload/v1729790597/thumbnail_4_iuhznn.jpg', 'https://res.cloudinary.com/dl0g9euyy/image/upload/v1729790602/Unique_One_iurzqq.jpg']], ['White Petals', ['https://res.cloudinary.com/dl0g9euyy/image/upload/v1729790609/thumbnail_1_rno9aq.jpg', 'https://res.cloudinary.com/dl0g9euyy/image/upload/v1729790614/thumbnail_2_ppclyv.jpg', 'https://res.cloudinary.com/dl0g9euyy/image/upload/v1729790620/thumbnail_3_wpztmr.jpg', 'https://res.cloudinary.com/dl0g9euyy/image/upload/v1729790625/thumbnail_4_yirmyb.jpg', 'https://res.cloudinary.com/dl0g9euyy/image/upload/v1729790630/White_Petals_pwqpwq.jpg']], ['Wild Beauty', ['https://res.cloudinary.com/dl0g9euyy/image/upload/v1729790636/thumbnail_1_kblgoi.jpg', 'https://res.cloudinary.com/dl0g9euyy/image/upload/v1729790642/thumbnail_2_kzbrqi.jpg', 'https://res.cloudinary.com/dl0g9euyy/image/upload/v1729790647/thumbnail_3_gaiiwt.jpg', 'https://res.cloudinary.com/dl0g9euyy/image/upload/v1729790652/thumbnail_4_juqfae.jpg', 'https://res.cloudinary.com/dl0g9euyy/image/upload/v1729790657/Wild_Beauty_oojrdf.jpg']], ['Wild Cactus', ['https://res.cloudinary.com/dl0g9euyy/image/upload/v1729790663/shop-5-gallery-1_qcpyxh.jpg', 'https://res.cloudinary.com/dl0g9euyy/image/upload/v1729790669/shop-5-gallery-2_tbhxjf.jpg', 'https://res.cloudinary.com/dl0g9euyy/image/upload/v1729790674/shop-5-img_sdgxmk.jpg']]]\n"
     ]
    }
   ],
   "source": [
    "# Step 1: Read the Excel file\n",
    "df = pd.read_excel(\"real_path_data.xlsx\", header=None)\n",
    "\n",
    "# Step 2: Process the DataFrame\n",
    "nested_list = [] # The final data nestes list that contain [image_main_name, [path1,path2,path3,...]]\n",
    "current_product = None # temp variable for storing the current element\n",
    "images = [] # temp variable for storing the current element\n",
    "\"\"\"\n",
    "The idea is i have 2 table, products and product_thumbnails and i have to insert data for every product and their thumbnails also,\n",
    "about the thumbnails data we can have multiple thumbnails for a product(refer throught foreign key in database). But in our project,\n",
    "because limitation of storage so the devs decide to use a thumbnail set for multiple product. This code section is to get the thumbnails\n",
    "data from the xlsx file.\n",
    "\"\"\"\n",
    "for index, row in df.iterrows():\n",
    "    product_name = row[0]\n",
    "    image_name = row[1]\n",
    "    \"\"\"\n",
    "    Comment tiếng việt =))\n",
    "    Vòng for duyệt qua tất cả các row của dataset, lấy ra product_name và image_name tại dòng đó, kiểm tra nếu không phải NULL thì gán cho current_product và image_name,\n",
    "    duyệt tới khi nào gặp 1 product mới thì append cặp trước đó vào nested_list.\n",
    "    Lưu ý: Với merged cells, pandas chỉ coi cell gốc là có giá trị, còn lại thì đều là NaN\n",
    "    \"\"\"\n",
    "    if pd.notna(product_name): #notna is to check notnull\n",
    "        if current_product:\n",
    "            nested_list.append([current_product, images])\n",
    "        current_product = product_name\n",
    "        images = [image_name] if pd.notna(image_name) else []\n",
    "    else:\n",
    "        if pd.notna(image_name):\n",
    "            images.append(image_name)\n",
    "if current_product:\n",
    "    nested_list.append([current_product, images])\n",
    "\n",
    "# Step 3: Print the nested list (this list is data for image name and image path)\n",
    "print(nested_list)"
   ]
  },
  {
   "cell_type": "code",
   "execution_count": 4,
   "metadata": {},
   "outputs": [
    {
     "name": "stdout",
     "output_type": "stream",
     "text": [
      "SQL insert statements have been written to 'insert_statements_new.sql'\n"
     ]
    }
   ],
   "source": [
    "# Initialize Faker for generating realistic timestamps\n",
    "fake = Faker()\n",
    "\n",
    "# Constants\n",
    "CREATOR_ID = \"6757a1bd-4112-4710-a317-ad86cd0c82c7\"\n",
    "\n",
    "# Load JSON and nested image list\n",
    "with open('../data/data_cay.json') as f: # Load products data that crawled from mowgarden\n",
    "    products = json.load(f)\n",
    "\n",
    "# Nested list above\n",
    "nested_images = nested_list\n",
    "\n",
    "# Generate a random 20-character string for product code\n",
    "def generate_random_string(length=20):\n",
    "    return ''.join(random.choices('abcdefghijklmnopqrstuvwxyzABCDEFGHIJKLMNOPQRSTUVWXYZ0123456789', k=length))\n",
    "\n",
    "# Generate random timestamps within a range\n",
    "def random_timestamp():\n",
    "    return fake.date_time_between(start_date=\"-2y\", end_date=\"now\")\n",
    "\n",
    "# Write SQL insert statements to file\n",
    "with open(\"insert_statements_new.sql\", \"w\") as file:\n",
    "    for product in products:\n",
    "        # Generate data for each product\n",
    "        product_id = str(uuid.uuid4())\n",
    "        product_code = generate_random_string()\n",
    "        summary = \" \".join(product['summary']) if isinstance(product['summary'], list) else product['summary']\n",
    "        content = \" \".join(product['content']) if isinstance(product['content'], list) else product['content']\n",
    "        status = random.choice([True, False])\n",
    "        price = product['price']\n",
    "        # Generate realistic timestamps within an acceptable range\n",
    "        created_at = random_timestamp()\n",
    "\n",
    "        # Calculate max_days and ensure it's valid for `updated_at`\n",
    "        max_days = (datetime.now() - created_at).days\n",
    "        if max_days > 0:\n",
    "            updated_at = created_at + timedelta(days=random.randint(1, max_days))\n",
    "        else:\n",
    "            updated_at = created_at  # No days to add, so `updated_at` is the same as `created_at`\n",
    "\n",
    "        deleted_at = \"NULL\"\n",
    "        stock = random.randint(1, 100)\n",
    "        sold = random.randint(1, 100)\n",
    "        product_name = product['name']\n",
    "\n",
    "        # Select an image set and main image for the product\n",
    "        image_set = random.choice(nested_images)\n",
    "        main_image_path = image_set[1][0]\n",
    "        main_image_name = main_image_path.split(\"/\")[-1]\n",
    "\n",
    "        # Insert statement for the product\n",
    "        product_insert = f\"\"\"\n",
    "        INSERT INTO products (id, product_code, summary, content, status, creator_id, price,\n",
    "                             created_at, updated_at, deleted_at, stock, sold, product_name, image_path, image_name)\n",
    "        VALUES ('{product_id}', '{product_code}', '{summary}', '{content}', {status}, '{CREATOR_ID}', \n",
    "                {price}, '{created_at}', '{updated_at}', {deleted_at}, {stock}, {sold}, '{product_name}', \n",
    "                '{main_image_path}', '{main_image_name}');\n",
    "        \"\"\"\n",
    "        file.write(product_insert + \"\\n\")\n",
    "\n",
    "        # Insert statements for product thumbnails\n",
    "        if isinstance(image_set[1], list):\n",
    "            for image_url in image_set[1]:\n",
    "                thumbnail_id = str(uuid.uuid4())\n",
    "                thumbnail_created_at = random_timestamp()\n",
    "                max_days = (datetime.now() - thumbnail_created_at).days\n",
    "                if max_days > 0:\n",
    "                    thumbnail_updated_at = thumbnail_created_at + timedelta(days=random.randint(1, max_days))\n",
    "                else:\n",
    "                    thumbnail_updated_at = thumbnail_created_at  # No days to add, so `updated_at` is the same as `created_at`\n",
    "                thumbnail_insert = f\"\"\"\n",
    "                INSERT INTO product_thumbnails (id, product_id, image_path, image_name,\n",
    "                                                created_at, updated_at, deleted_at)\n",
    "                VALUES ('{thumbnail_id}', '{product_id}', '{image_url}', '{image_url.split('/')[-1]}', \n",
    "                        '{thumbnail_created_at}', '{thumbnail_updated_at}', NULL);\n",
    "                \"\"\"\n",
    "                file.write(thumbnail_insert + \"\\n\")\n",
    "\n",
    "print(\"SQL insert statements have been written to 'insert_statements_new.sql'\")\n",
    "# This .sql file can be give to the dev for data avalibility\n"
   ]
  },
  {
   "cell_type": "code",
   "execution_count": null,
   "metadata": {},
   "outputs": [],
   "source": []
  }
 ],
 "metadata": {
  "kernelspec": {
   "display_name": "Python 3",
   "language": "python",
   "name": "python3"
  },
  "language_info": {
   "codemirror_mode": {
    "name": "ipython",
    "version": 3
   },
   "file_extension": ".py",
   "mimetype": "text/x-python",
   "name": "python",
   "nbconvert_exporter": "python",
   "pygments_lexer": "ipython3",
   "version": "3.10.11"
  }
 },
 "nbformat": 4,
 "nbformat_minor": 2
}
